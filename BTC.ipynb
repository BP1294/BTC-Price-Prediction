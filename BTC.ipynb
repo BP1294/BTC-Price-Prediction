{
 "cells": [
  {
   "cell_type": "markdown",
   "id": "ee6be9ea-3301-4563-8b63-51c4ff3be2da",
   "metadata": {},
   "source": [
    "# Random Forest (RF): BTC Price Prediction\n",
    "Source: https://ideas.repec.org/p/pra/mprapa/113293.html  \n",
    "This paper found that technical indicators were important features in the prediction.  \n",
    "When predicting values 10- and 20-days, it had an accuracy of 85%-90%+.  \n",
    "5 day forecast had an accuracy rate of 75%-80%.  \n",
    "\n",
    "\n",
    "## Why Random Forest?\n",
    "It is a ML model that makes decisions like a group of people voting to solve a problem, and it uses a lot of decision trees.  \n",
    "It basically builds many decision trees, and looks at random set of features.  \n",
    "Each prediction will determine if BTC will go up or down.  \n",
    "Based on the majority vote, it will determine if it will go up or down. \n",
    "\n",
    "## Features to explore\n",
    "- MA50 (50-day moving average)\n",
    "- MA200 (200-day moving average)\n",
    "- MACDSignal (signal line of MACD)\n",
    "- OBV (On-Balance Volume)\n",
    "- WAD (Williams Acumulation/Distribution Line)"
   ]
  },
  {
   "cell_type": "markdown",
   "id": "7e271219-2f57-40d0-9cf2-9062c7d7d250",
   "metadata": {},
   "source": [
    "# Libraries"
   ]
  },
  {
   "cell_type": "code",
   "execution_count": 31,
   "id": "02e1f3cc-3c07-4b77-9ae0-17277303abfe",
   "metadata": {},
   "outputs": [],
   "source": [
    "import yfinance as yf\n",
    "import pandas as pd\n",
    "import pandas_ta as ta  \n",
    "import matplotlib.pyplot as plt\n",
    "\n",
    "from fredapi import Fred\n",
    "from datetime import datetime"
   ]
  },
  {
   "cell_type": "markdown",
   "id": "d3233f0d-6258-46ca-b39c-06570724d7e6",
   "metadata": {},
   "source": [
    "# BTC Set Up: Fetch Price\n",
    "From 2018 - Present"
   ]
  },
  {
   "cell_type": "code",
   "execution_count": 32,
   "id": "2ba6a196-8db4-48c1-b8d4-1550decde212",
   "metadata": {},
   "outputs": [
    {
     "name": "stderr",
     "output_type": "stream",
     "text": [
      "[*********************100%***********************]  1 of 1 completed\n"
     ]
    }
   ],
   "source": [
    "# Get today's date in 'YYYY-MM-DD' format\n",
    "today = datetime.today().strftime('%Y-%m-%d')\n",
    "\n",
    "# Download daily Bitcoin data from Yahoo Finance\n",
    "btc = yf.download('BTC-USD', start='2018-01-01', end=today, interval='1d')"
   ]
  },
  {
   "cell_type": "code",
   "execution_count": 33,
   "id": "7e2f8fac-f650-4271-b5fc-30169850796c",
   "metadata": {},
   "outputs": [],
   "source": [
    "btc = btc[['Close', 'Volume', 'High', 'Low']]"
   ]
  },
  {
   "cell_type": "markdown",
   "id": "4f1179d0-054f-4921-95b0-505b896a53ff",
   "metadata": {},
   "source": [
    "# Setting up the Data"
   ]
  },
  {
   "cell_type": "markdown",
   "id": "ddb39ded-feec-4e29-a2e3-b24af2dcf530",
   "metadata": {},
   "source": [
    "## Moving Averages (50- & 200- Days)\n",
    "- Short term: 50 days\n",
    "- Long term: 200 days"
   ]
  },
  {
   "cell_type": "markdown",
   "id": "df0e00e0-1058-4f6a-a5b2-567755c27132",
   "metadata": {},
   "source": [
    "#### Feature Engineering MA_Signal\n",
    "If:\n",
    "- Buy: 1\n",
    "- None: 0 \n",
    "- Sell: -1"
   ]
  },
  {
   "cell_type": "code",
   "execution_count": 34,
   "id": "017824c0-10d1-43df-8564-38dcbd27d0e7",
   "metadata": {},
   "outputs": [
    {
     "name": "stderr",
     "output_type": "stream",
     "text": [
      "C:\\Users\\nones\\AppData\\Local\\Temp\\ipykernel_27720\\1516586326.py:27: PerformanceWarning: dropping on a non-lexsorted multi-index without a level parameter may impact performance.\n",
      "  btc.drop(columns=['Prev_MA_50', 'Prev_MA_200'], inplace=True)\n"
     ]
    }
   ],
   "source": [
    "# Calculate Moving Averages\n",
    "btc['MA50']  = btc['Close'].rolling(window=50).mean()\n",
    "btc['MA200'] = btc['Close'].rolling(window=200).mean() \n",
    "\n",
    "# Use shift to detect crossovers\n",
    "btc['Prev_MA_50'] = btc['MA50'].shift(1)\n",
    "btc['Prev_MA_200'] = btc['MA200'].shift(1)\n",
    "\n",
    "# Initialize numeric signal column\n",
    "btc['MA_Signal'] = 0  # 1 = Buy, -1 = Sell, 0 = None\n",
    "\n",
    "# Golden Cross → Buy\n",
    "btc.loc[\n",
    "    (btc['Prev_MA_50'] < btc['Prev_MA_200']) & \n",
    "    (btc['MA50'] > btc['MA200']),\n",
    "    'MA_Signal'\n",
    "] = 1\n",
    "\n",
    "# Death Cross → Sell\n",
    "btc.loc[\n",
    "    (btc['Prev_MA_50'] > btc['Prev_MA_200']) & \n",
    "    (btc['MA50'] < btc['MA200']),\n",
    "    'MA_Signal'\n",
    "] = -1\n",
    "\n",
    "# Drop helper columns\n",
    "btc.drop(columns=['Prev_MA_50', 'Prev_MA_200'], inplace=True)\n"
   ]
  },
  {
   "cell_type": "markdown",
   "id": "38841961-f01a-45f6-8693-c879827d2c09",
   "metadata": {},
   "source": [
    "## Moving Average Convergence Divergence (MACD)\n",
    "This tracks the difference between short-term and long-term moving averages, which is often 12-day and 26-day) along with a signal line.  \n",
    "When MACD is positive, it suggests an upward momentum whereas a negative crossover can signal a bearish turn.  \n",
    "\n",
    "The research paper used MACD and MACDSignal as part of the feature set in the ML model  \n",
    "They used the default appraoch which is 12-26 day EMA, with MACDSignal being 9 day EMA"
   ]
  },
  {
   "cell_type": "markdown",
   "id": "7b1ddb99-b634-41ee-9359-5d7d287b5dca",
   "metadata": {},
   "source": [
    "Tracks difference between short-term and long-term MAs, it is often 12-day, 26-day & 9 days\n",
    "\n",
    "Understanding MACD line = EMA(12) - EMA(26)  \n",
    "\n",
    "Signal Line = EMA(9) of the MACD Line\n",
    "\n",
    "When MACD > Signal = Uptrend / buy opportunity\n",
    "When MACD < Signal = Downtrend / sell signal"
   ]
  },
  {
   "cell_type": "markdown",
   "id": "92db042e-fbe8-48c7-9d97-c60a250c029f",
   "metadata": {},
   "source": [
    "### Feature engineering \"macd_signal_flag\" \n",
    "If:\n",
    "- Buy: 1\n",
    "- None: 0\n",
    "- Sell: -1"
   ]
  },
  {
   "cell_type": "code",
   "execution_count": 35,
   "id": "702769a3-32c5-463b-883d-b75d162f32a3",
   "metadata": {},
   "outputs": [],
   "source": [
    "# Calculate MACD and Signal Line using standard EMA periods\n",
    "ema_12 = btc['Close'].ewm(span=12, adjust=False).mean()\n",
    "ema_26 = btc['Close'].ewm(span=26, adjust=False).mean()\n",
    "\n",
    "btc['MACD'] = ema_12 - ema_26\n",
    "btc['MACD_Signal'] = btc['MACD'].ewm(span=9, adjust=False).mean()\n",
    "\n",
    "# Initialize numeric signal column only\n",
    "btc['macd_signal_flag'] = 0  # 1 for Buy, -1 for Sell, 0 for No Signal\n",
    "\n",
    "# MACD crosses above Signal → Buy (1)\n",
    "buy_mask = (\n",
    "    (btc['MACD'].shift(1) < btc['MACD_Signal'].shift(1)) &\n",
    "    (btc['MACD'] > btc['MACD_Signal'])\n",
    ")\n",
    "btc.loc[buy_mask, 'macd_signal_flag'] = 1\n",
    "\n",
    "# MACD crosses below Signal → Sell (-1)\n",
    "sell_mask = (\n",
    "    (btc['MACD'].shift(1) > btc['MACD_Signal'].shift(1)) &\n",
    "    (btc['MACD'] < btc['MACD_Signal'])\n",
    ")\n",
    "btc.loc[sell_mask, 'macd_signal_flag'] = -1\n"
   ]
  },
  {
   "cell_type": "markdown",
   "id": "ebf5a3e4-5ed3-43d5-bba1-d04ba8da79fc",
   "metadata": {},
   "source": [
    "## OBV (On-Balance Volume)\n",
    "This is a cumulative volume indicator measuring buying/selling pressure.\n",
    "Rising OBV with price indicates strength (volume confirming the trend), whereas diverging OBV may warn of a reversal.\n",
    "Other words:\n",
    "This tracks behavior of traders, it is often viewed as a volume-based sentiment indicator.\n",
    "\n",
    "If price goes up, OBV adds that day's volume and assumes that buyers are in control (positive sentiment)  \n",
    "If price goes down, OBV substracts the volume and assumes sellers are in control (negative sentiment)  \n",
    "If price is flat, OBV does nothing that day  \n",
    "\n",
    "In the research paper, the only used OBV as is, no transformation was used"
   ]
  },
  {
   "cell_type": "code",
   "execution_count": 36,
   "id": "71ec6014-a8b8-4f97-a1cf-4686c780f09f",
   "metadata": {},
   "outputs": [],
   "source": [
    "btc.columns = ['_'.join(col).strip('_') for col in btc.columns.values]"
   ]
  },
  {
   "cell_type": "markdown",
   "id": "e0e63869-5148-40bd-856b-ad559924849b",
   "metadata": {},
   "source": [
    "Code explained:\n",
    "\n",
    "1. Calculates the day-to-day change in closing price, if today's close is higher than yesterday, it is a positive number. If today is lower, then it is a negative number. First row will always be NaN because there's no previous day. Think of this as, \"How much did hte price move compared to yesterday?\"\n",
    "\n",
    "2. Translates the price movement into a direction signal.\n",
    "- price went up: 1 \n",
    "- price went down: -1\n",
    "- no change: 0\n",
    "\n",
    "3. Multiplies trading volume by the price direction each day:\n",
    "\n",
    "If price went up, it adds volume (buying pressure)\n",
    "If price went down, it substracts volume (selling pressure)\n",
    "Then it cimulatively sums those values across all days"
   ]
  },
  {
   "cell_type": "code",
   "execution_count": 37,
   "id": "9f19f813-873f-4a86-a069-b1ef8a5aaa6f",
   "metadata": {},
   "outputs": [],
   "source": [
    "# OBV Calculation\n",
    "delta = btc['Close_BTC-USD'].diff()                                     # 1\n",
    "direction = delta.apply(lambda x: 1 if x > 0 else (-1 if x < 0 else 0)) # 2\n",
    "btc['OBV'] = (btc['Volume_BTC-USD'] * direction).cumsum()               # 3"
   ]
  },
  {
   "cell_type": "markdown",
   "id": "4ff06779-4a98-4c3c-8c76-b018d2ec3336",
   "metadata": {},
   "source": [
    "## WAD (Williams Acumulation/Distribution Line)  \n",
    "Its a sensor that tells us what is pushing or pulling based on price AND volume  \n",
    "\n",
    "In the research paper, they used WAS as a feature, using default settings in R.  \n",
    "This was the mode important predictor in their random forest model.  \n",
    "This is what helped determine if BTC would go up or down 10- or 20-days later"
   ]
  },
  {
   "cell_type": "markdown",
   "id": "2fe9c72c-e0e9-4184-9ed7-1aa6796f194b",
   "metadata": {},
   "source": [
    "### Feature Engineering WAD  \n",
    "Using High and Low of the day  \n",
    "For each day:\n",
    "\n",
    "- If Close > Previous Close → add Volume × [Close − Min(Low, PrevClose)]\n",
    "- If Close < Previous Close → subtract Volume × [Max(High, PrevClose) − Close]\n",
    "- If Close == Previous Close → add 0"
   ]
  },
  {
   "cell_type": "code",
   "execution_count": 38,
   "id": "29cedb9f-16d5-4b1f-a4b8-4f583ce52aae",
   "metadata": {},
   "outputs": [],
   "source": [
    "# Previous day's close\n",
    "prev_close = btc['Close_BTC-USD'].shift(1)\n",
    "\n",
    "# Initialize WAD component column\n",
    "btc['WAD_component'] = 0.0\n",
    "\n",
    "# Condition 1: Close > Previous Close → buying pressure\n",
    "buy_condition = btc['Close_BTC-USD'] > prev_close\n",
    "btc.loc[buy_condition, 'WAD_component'] = (\n",
    "    (btc['Close_BTC-USD'] - pd.concat([btc['Low_BTC-USD'], prev_close], axis=1).min(axis=1)) *\n",
    "    btc['Volume_BTC-USD']\n",
    ")\n",
    "\n",
    "# Condition 2: Close < Previous Close → selling pressure\n",
    "sell_condition = btc['Close_BTC-USD'] < prev_close\n",
    "btc.loc[sell_condition, 'WAD_component'] = (\n",
    "    (btc['Close_BTC-USD'] - pd.concat([btc['High_BTC-USD'], prev_close], axis=1).max(axis=1)) *\n",
    "    btc['Volume_BTC-USD']\n",
    ")\n",
    "\n",
    "# Final WAD: cumulative sum of daily WAD component\n",
    "btc['WAD'] = btc['WAD_component'].cumsum()\n",
    "\n",
    "# Optional: remove intermediate column\n",
    "btc.drop(columns=['WAD_component'], inplace=True)"
   ]
  },
  {
   "cell_type": "markdown",
   "id": "0cb52210-84bc-4591-9e3f-ddc092f2062a",
   "metadata": {},
   "source": [
    "### Adding additional column for personal analysis"
   ]
  },
  {
   "cell_type": "markdown",
   "id": "ae5c2e60-51a0-41f0-813f-0355a7a7defd",
   "metadata": {},
   "source": [
    "WAD_signal Indicator – Interpretation & Trade Guidance\n",
    "\n",
    "- **'Bullish'**:  \n",
    "  - Price is rising AND WAD is rising  \n",
    "  - Interpretation: Strong buying pressure is confirming the uptrend.  \n",
    "  - Action: Consider entering a buy/long position or holding if already in.  \n",
    "  - Confidence: High — momentum is backed by volume.\n",
    "\n",
    "- **'Bearish'**:  \n",
    "  - Price is falling AND WAD is falling  \n",
    "  - Interpretation: Strong selling pressure is confirming the downtrend.  \n",
    "  - Action: Consider selling, shorting, or staying out.  \n",
    "  - Confidence: High — sellers are dominating with volume.\n",
    "\n",
    "- **'Caution (Bearish Divergence)'**:  \n",
    "  - Price is rising BUT WAD is falling  \n",
    "  - Interpretation: Price is going up without volume support — the rally may be weak or fading.  \n",
    "  - Action: Avoid buying, tighten stop-losses if in a trade. Be cautious — trend may reverse.  \n",
    "  - Confidence: Medium — watch closely for weakness.\n",
    "\n",
    "- **'Watch for Reversal'**:  \n",
    "  - Price is falling BUT WAD is rising  \n",
    "  - Interpretation: Quiet accumulation — buyers may be entering despite price drops.  \n",
    "  - Action: Consider monitoring for a bounce, or early entry on reversal confirmation.  \n",
    "  - Confidence: Medium — potential bullish setup.\n",
    "\n",
    "- **'Neutral'**:  \n",
    "  - No significant movement in price or WAD  \n",
    "  - Interpretation: Market indecision or sideways consolidation.  \n",
    "  - Action: Wait for a clear signal. No strong trend to act on.  \n",
    "  - Confidence: Low — signal not actionable.\n"
   ]
  },
  {
   "cell_type": "code",
   "execution_count": 39,
   "id": "50413bb1-f95f-4cf8-bf83-5a9feea4f1a2",
   "metadata": {},
   "outputs": [],
   "source": [
    "# Shift price and WAD to get previous values\n",
    "btc['WAD_prev'] = btc['WAD'].shift(1)\n",
    "btc['Price_prev'] = btc['Close_BTC-USD'].shift(1)\n",
    "\n",
    "# Price and WAD movement directions\n",
    "btc['price_dir'] = btc['Close_BTC-USD'] - btc['Price_prev']\n",
    "btc['wad_dir'] = btc['WAD'] - btc['WAD_prev']\n",
    "\n",
    "# Create indicator column\n",
    "def classify_sentiment(row):\n",
    "    if row['price_dir'] > 0 and row['wad_dir'] > 0:\n",
    "        return 'Bullish'\n",
    "    elif row['price_dir'] < 0 and row['wad_dir'] < 0:\n",
    "        return 'Bearish'\n",
    "    elif row['price_dir'] > 0 and row['wad_dir'] < 0:\n",
    "        return 'Caution (Bearish Divergence)'\n",
    "    elif row['price_dir'] < 0 and row['wad_dir'] > 0:\n",
    "        return 'Watch for Reversal'\n",
    "    else:\n",
    "        return 'Neutral'\n",
    "\n",
    "btc['WAD_signal'] = btc.apply(classify_sentiment, axis=1)\n",
    "\n",
    "# Optional: Drop helper columns\n",
    "btc.drop(columns=['WAD_prev', 'Price_prev', 'price_dir', 'wad_dir'], inplace=True)\n"
   ]
  },
  {
   "cell_type": "markdown",
   "id": "9d1937c4-eefb-4bcd-9da1-1ae75ab0d5be",
   "metadata": {},
   "source": [
    "## Tenyrbond \n",
    "10-year US Treasury Bond Yield was found to be one of the most important macroeconomic features for longer forecast horizon"
   ]
  },
  {
   "cell_type": "code",
   "execution_count": 40,
   "id": "493c4690-4017-40d4-8ac5-7c54c931a628",
   "metadata": {},
   "outputs": [],
   "source": [
    "import pandas as pd\n",
    "from fredapi import Fred\n",
    "\n",
    "# Step 1: Read your FRED API key from a text file\n",
    "with open(\"C:/Users/nones/BTC/fre_api_key.txt\", \"r\") as file:\n",
    "    fred_api_key = file.read().strip()\n",
    "\n",
    "# Step 2: Initialize FRED connection\n",
    "fred = Fred(api_key=fred_api_key)\n",
    "\n",
    "# Step 3: Download daily 10-year U.S. Treasury bond yield (DGS10)\n",
    "tenyrbond = fred.get_series('DGS10')\n",
    "\n",
    "# Step 4: Format the data as a DataFrame\n",
    "tenyrbond_df = tenyrbond.reset_index()\n",
    "tenyrbond_df.columns = ['Date', 'Tenyrbond']\n",
    "tenyrbond_df['Date'] = pd.to_datetime(tenyrbond_df['Date'])\n",
    "\n",
    "# Optional: Fill missing days (e.g., weekends) if needed\n",
    "tenyrbond_df.set_index('Date', inplace=True)\n",
    "daily_index = pd.date_range(start=tenyrbond_df.index.min(), end=tenyrbond_df.index.max(), freq='D')\n",
    "tenyrbond_df = tenyrbond_df.reindex(daily_index)\n",
    "tenyrbond_df['Tenyrbond'] = tenyrbond_df['Tenyrbond'].ffill()\n",
    "tenyrbond_df = tenyrbond_df.reset_index()\n",
    "tenyrbond_df.columns = ['Date', 'Tenyrbond']"
   ]
  },
  {
   "cell_type": "markdown",
   "id": "d1b8e2e5-d7bb-473f-9eb8-fdb6c62e9046",
   "metadata": {},
   "source": [
    "# Join the two DF: btc & tenyrbonnd_df"
   ]
  },
  {
   "cell_type": "markdown",
   "id": "7f28a88d-6c0e-4d3f-b3b5-74e8cf9dbbdf",
   "metadata": {},
   "source": [
    "Date was not stored right, now we're making it a column"
   ]
  },
  {
   "cell_type": "code",
   "execution_count": 41,
   "id": "4bb720ab-019b-4004-a066-f8bf7a09906e",
   "metadata": {},
   "outputs": [],
   "source": [
    "btc = btc.reset_index()  "
   ]
  },
  {
   "cell_type": "code",
   "execution_count": 42,
   "id": "a3268e7f-d54c-47f2-975d-7ac3607a83e0",
   "metadata": {},
   "outputs": [
    {
     "data": {
      "text/plain": [
       "2748"
      ]
     },
     "execution_count": 42,
     "metadata": {},
     "output_type": "execute_result"
    }
   ],
   "source": [
    "len(btc)"
   ]
  },
  {
   "cell_type": "markdown",
   "id": "dac683bb-61b0-439c-b448-fb3962306745",
   "metadata": {},
   "source": [
    "Combining btc with tenyrbond_df"
   ]
  },
  {
   "cell_type": "code",
   "execution_count": 43,
   "id": "a96537b4-4f24-464e-bda9-16584e73f5e7",
   "metadata": {},
   "outputs": [],
   "source": [
    "# Ensure both Date columns are in datetime format\n",
    "btc['Date'] = pd.to_datetime(btc['Date'])\n",
    "tenyrbond_df['Date'] = pd.to_datetime(tenyrbond_df['Date'])\n",
    "\n",
    "# Merge on 'Date' — only keep dates that exist in btc\n",
    "btc_rf = pd.merge(btc, tenyrbond_df, on='Date', how='inner')"
   ]
  },
  {
   "cell_type": "code",
   "execution_count": 44,
   "id": "c061b84d-6090-49f2-a039-0a54c4c7e10f",
   "metadata": {},
   "outputs": [
    {
     "data": {
      "text/plain": [
       "2747"
      ]
     },
     "execution_count": 44,
     "metadata": {},
     "output_type": "execute_result"
    }
   ],
   "source": [
    "len(btc_rf)"
   ]
  },
  {
   "cell_type": "markdown",
   "id": "272520e4-1223-4209-8700-513e7909b5fc",
   "metadata": {},
   "source": [
    "# Saving the data"
   ]
  },
  {
   "cell_type": "markdown",
   "id": "35058e60-01d1-439a-9df9-8dc4dcefb724",
   "metadata": {},
   "source": [
    "## Personal use "
   ]
  },
  {
   "cell_type": "code",
   "execution_count": 45,
   "id": "a29e7969-4778-4624-9df3-752d43076ac1",
   "metadata": {},
   "outputs": [],
   "source": [
    "btc_personal = btc_rf"
   ]
  },
  {
   "cell_type": "code",
   "execution_count": 46,
   "id": "c7e566a6-a156-4918-90d3-7d52198e569b",
   "metadata": {},
   "outputs": [],
   "source": [
    "btc_personal.to_csv('btc_personal.csv', index=False)"
   ]
  },
  {
   "cell_type": "code",
   "execution_count": 47,
   "id": "e55c2a2b-f4a7-4033-9536-9859d989e3d7",
   "metadata": {},
   "outputs": [
    {
     "data": {
      "text/plain": [
       "2747"
      ]
     },
     "execution_count": 47,
     "metadata": {},
     "output_type": "execute_result"
    }
   ],
   "source": [
    "len(btc_personal)"
   ]
  },
  {
   "cell_type": "markdown",
   "id": "4e415438-2e28-4572-a2fd-7c12b35e2fbb",
   "metadata": {},
   "source": [
    "# Model use"
   ]
  },
  {
   "cell_type": "code",
   "execution_count": 48,
   "id": "af26ba5f-357e-4e50-9c6b-00fb30c6aac8",
   "metadata": {},
   "outputs": [
    {
     "data": {
      "text/html": [
       "<div>\n",
       "<style scoped>\n",
       "    .dataframe tbody tr th:only-of-type {\n",
       "        vertical-align: middle;\n",
       "    }\n",
       "\n",
       "    .dataframe tbody tr th {\n",
       "        vertical-align: top;\n",
       "    }\n",
       "\n",
       "    .dataframe thead th {\n",
       "        text-align: right;\n",
       "    }\n",
       "</style>\n",
       "<table border=\"1\" class=\"dataframe\">\n",
       "  <thead>\n",
       "    <tr style=\"text-align: right;\">\n",
       "      <th></th>\n",
       "      <th>Date</th>\n",
       "      <th>Close_BTC-USD</th>\n",
       "      <th>Volume_BTC-USD</th>\n",
       "      <th>High_BTC-USD</th>\n",
       "      <th>Low_BTC-USD</th>\n",
       "      <th>MA50</th>\n",
       "      <th>MA200</th>\n",
       "      <th>MA_Signal</th>\n",
       "      <th>MACD</th>\n",
       "      <th>MACD_Signal</th>\n",
       "      <th>macd_signal_flag</th>\n",
       "      <th>OBV</th>\n",
       "      <th>WAD</th>\n",
       "      <th>WAD_signal</th>\n",
       "      <th>Tenyrbond</th>\n",
       "    </tr>\n",
       "  </thead>\n",
       "  <tbody>\n",
       "    <tr>\n",
       "      <th>0</th>\n",
       "      <td>2018-01-01</td>\n",
       "      <td>13657.200195</td>\n",
       "      <td>10291200000</td>\n",
       "      <td>14112.200195</td>\n",
       "      <td>13154.700195</td>\n",
       "      <td>NaN</td>\n",
       "      <td>NaN</td>\n",
       "      <td>0</td>\n",
       "      <td>0.0</td>\n",
       "      <td>0.0</td>\n",
       "      <td>0</td>\n",
       "      <td>0</td>\n",
       "      <td>0.0</td>\n",
       "      <td>Neutral</td>\n",
       "      <td>2.4</td>\n",
       "    </tr>\n",
       "  </tbody>\n",
       "</table>\n",
       "</div>"
      ],
      "text/plain": [
       "        Date  Close_BTC-USD  Volume_BTC-USD  High_BTC-USD   Low_BTC-USD  MA50  \\\n",
       "0 2018-01-01   13657.200195     10291200000  14112.200195  13154.700195   NaN   \n",
       "\n",
       "   MA200  MA_Signal  MACD  MACD_Signal  macd_signal_flag  OBV  WAD WAD_signal  \\\n",
       "0    NaN          0   0.0          0.0                 0    0  0.0    Neutral   \n",
       "\n",
       "   Tenyrbond  \n",
       "0        2.4  "
      ]
     },
     "execution_count": 48,
     "metadata": {},
     "output_type": "execute_result"
    }
   ],
   "source": [
    "btc_personal.head(1)"
   ]
  },
  {
   "cell_type": "code",
   "execution_count": 49,
   "id": "27e1bce9-aee5-441b-a593-3c6b2c748ce3",
   "metadata": {},
   "outputs": [],
   "source": [
    "rf_features = [\n",
    "    'Date',\n",
    "    'Close_BTC-USD',\n",
    "    'Volume_BTC-USD',\n",
    "    'High_BTC-USD',\n",
    "    'Low_BTC-USD',\n",
    "    'MA50',\n",
    "    'MA200',\n",
    "    'MACD',\n",
    "    'MACD_Signal',\n",
    "    'OBV',\n",
    "    'WAD',\n",
    "    'Tenyrbond'\n",
    "]"
   ]
  },
  {
   "cell_type": "code",
   "execution_count": 50,
   "id": "32d7948a-7879-4768-826f-8d75e138f405",
   "metadata": {},
   "outputs": [],
   "source": [
    "btc_rf = btc_rf[rf_features]"
   ]
  },
  {
   "cell_type": "markdown",
   "id": "8f58adc3-9526-4e33-b936-804e57accfaa",
   "metadata": {},
   "source": [
    "#### Save data"
   ]
  },
  {
   "cell_type": "code",
   "execution_count": 51,
   "id": "61b38c5a-ac92-459b-8842-26deea86ffb7",
   "metadata": {},
   "outputs": [],
   "source": [
    "btc_rf.to_csv('btc_rf.csv', index=False)"
   ]
  },
  {
   "cell_type": "markdown",
   "id": "34492239-057c-432c-9a4e-7a58633f009c",
   "metadata": {},
   "source": [
    "# Random Forest\n",
    "Putting everything together"
   ]
  },
  {
   "cell_type": "markdown",
   "id": "75be35e4-0fef-4783-b005-18fe2b94a3af",
   "metadata": {},
   "source": [
    "Context:  \n",
    "In the research, they found that RF achieved 90% accuracy for a 20-day forecast  \n",
    "Under time-series cross validation, it had an accuracy of (83%-89%)  \n",
    "The model is able to handle nonlinear trends, and was able to handle robust noise (market volatility)  "
   ]
  },
  {
   "cell_type": "markdown",
   "id": "5abb84bb-3643-4549-8cd6-0e79d1ba0262",
   "metadata": {},
   "source": [
    "Assign data to model as a df"
   ]
  },
  {
   "cell_type": "code",
   "execution_count": 52,
   "id": "bfbd8103-9815-47f9-935e-445b5574faf8",
   "metadata": {},
   "outputs": [],
   "source": [
    "model = pd.read_csv(\"C:/Users/nones/BTC/btc_rf.csv\") # for approach 1"
   ]
  },
  {
   "cell_type": "markdown",
   "id": "43917aa7-65ef-4f49-b717-237c261f0d1f",
   "metadata": {},
   "source": [
    "### Approach 1:"
   ]
  },
  {
   "cell_type": "markdown",
   "id": "d86e8e9c-d0f9-46a8-a3c4-b52d891bc7fd",
   "metadata": {},
   "source": [
    "####  Step 1: Prepare Data for Prediction"
   ]
  },
  {
   "cell_type": "code",
   "execution_count": 53,
   "id": "80df02a0-58b8-4252-9c55-74a34bdbf6c7",
   "metadata": {},
   "outputs": [],
   "source": [
    "# Predicting 10 and 20 days ahead closing prices\n",
    "model['Price_10d'] = model['Close_BTC-USD'].shift(-10)\n",
    "model['Price_20d'] = model['Close_BTC-USD'].shift(-20)\n",
    "\n",
    "# Drop rows with NaN targets\n",
    "model_rf = model.dropna(subset=['Price_10d', 'Price_20d'])"
   ]
  },
  {
   "cell_type": "markdown",
   "id": "9499d6a4-18e0-47e2-9811-d0cb09872c29",
   "metadata": {},
   "source": [
    "#### Step 2: Choose Features and Targets"
   ]
  },
  {
   "cell_type": "code",
   "execution_count": 54,
   "id": "49467c43-d3f7-43f0-9403-fe593c5e0737",
   "metadata": {},
   "outputs": [],
   "source": [
    "# Feature columns (exclude the targets and ensure no leakage)\n",
    "features = [\n",
    "    'Close_BTC-USD', 'Volume_BTC-USD', 'High_BTC-USD', 'Low_BTC-USD',\n",
    "    'MA50', 'MA200', 'MACD', 'MACD_Signal', 'OBV', 'WAD', 'Tenyrbond'\n",
    "]\n",
    "\n",
    "X = model_rf[features]\n",
    "\n",
    "# Targets\n",
    "y_10d = model_rf['Price_10d']\n",
    "y_20d = model_rf['Price_20d']"
   ]
  },
  {
   "cell_type": "markdown",
   "id": "5febe966-e8b7-4682-8b4b-42954b5953b2",
   "metadata": {},
   "source": [
    "#### Step 3: Train-Test Split (Time-Series style)"
   ]
  },
  {
   "cell_type": "code",
   "execution_count": 55,
   "id": "cb5ca689-35bd-46a7-b7a9-ed06afca1f22",
   "metadata": {},
   "outputs": [],
   "source": [
    "split = int(len(X) * 0.8)\n",
    "\n",
    "X_train, X_test = X.iloc[:split], X.iloc[split:]\n",
    "y10_train, y10_test = y_10d.iloc[:split], y_10d.iloc[split:]\n",
    "y20_train, y20_test = y_20d.iloc[:split], y_20d.iloc[split:]"
   ]
  },
  {
   "cell_type": "markdown",
   "id": "2a273c69-9fbc-4055-858d-4a1f4a442cf7",
   "metadata": {},
   "source": [
    "#### Step 4: Fit Random Forest Models"
   ]
  },
  {
   "cell_type": "code",
   "execution_count": 56,
   "id": "8e1b4ec6-5157-40c0-8180-0a0147001fb9",
   "metadata": {},
   "outputs": [
    {
     "data": {
      "text/html": [
       "<style>#sk-container-id-2 {\n",
       "  /* Definition of color scheme common for light and dark mode */\n",
       "  --sklearn-color-text: black;\n",
       "  --sklearn-color-line: gray;\n",
       "  /* Definition of color scheme for unfitted estimators */\n",
       "  --sklearn-color-unfitted-level-0: #fff5e6;\n",
       "  --sklearn-color-unfitted-level-1: #f6e4d2;\n",
       "  --sklearn-color-unfitted-level-2: #ffe0b3;\n",
       "  --sklearn-color-unfitted-level-3: chocolate;\n",
       "  /* Definition of color scheme for fitted estimators */\n",
       "  --sklearn-color-fitted-level-0: #f0f8ff;\n",
       "  --sklearn-color-fitted-level-1: #d4ebff;\n",
       "  --sklearn-color-fitted-level-2: #b3dbfd;\n",
       "  --sklearn-color-fitted-level-3: cornflowerblue;\n",
       "\n",
       "  /* Specific color for light theme */\n",
       "  --sklearn-color-text-on-default-background: var(--sg-text-color, var(--theme-code-foreground, var(--jp-content-font-color1, black)));\n",
       "  --sklearn-color-background: var(--sg-background-color, var(--theme-background, var(--jp-layout-color0, white)));\n",
       "  --sklearn-color-border-box: var(--sg-text-color, var(--theme-code-foreground, var(--jp-content-font-color1, black)));\n",
       "  --sklearn-color-icon: #696969;\n",
       "\n",
       "  @media (prefers-color-scheme: dark) {\n",
       "    /* Redefinition of color scheme for dark theme */\n",
       "    --sklearn-color-text-on-default-background: var(--sg-text-color, var(--theme-code-foreground, var(--jp-content-font-color1, white)));\n",
       "    --sklearn-color-background: var(--sg-background-color, var(--theme-background, var(--jp-layout-color0, #111)));\n",
       "    --sklearn-color-border-box: var(--sg-text-color, var(--theme-code-foreground, var(--jp-content-font-color1, white)));\n",
       "    --sklearn-color-icon: #878787;\n",
       "  }\n",
       "}\n",
       "\n",
       "#sk-container-id-2 {\n",
       "  color: var(--sklearn-color-text);\n",
       "}\n",
       "\n",
       "#sk-container-id-2 pre {\n",
       "  padding: 0;\n",
       "}\n",
       "\n",
       "#sk-container-id-2 input.sk-hidden--visually {\n",
       "  border: 0;\n",
       "  clip: rect(1px 1px 1px 1px);\n",
       "  clip: rect(1px, 1px, 1px, 1px);\n",
       "  height: 1px;\n",
       "  margin: -1px;\n",
       "  overflow: hidden;\n",
       "  padding: 0;\n",
       "  position: absolute;\n",
       "  width: 1px;\n",
       "}\n",
       "\n",
       "#sk-container-id-2 div.sk-dashed-wrapped {\n",
       "  border: 1px dashed var(--sklearn-color-line);\n",
       "  margin: 0 0.4em 0.5em 0.4em;\n",
       "  box-sizing: border-box;\n",
       "  padding-bottom: 0.4em;\n",
       "  background-color: var(--sklearn-color-background);\n",
       "}\n",
       "\n",
       "#sk-container-id-2 div.sk-container {\n",
       "  /* jupyter's `normalize.less` sets `[hidden] { display: none; }`\n",
       "     but bootstrap.min.css set `[hidden] { display: none !important; }`\n",
       "     so we also need the `!important` here to be able to override the\n",
       "     default hidden behavior on the sphinx rendered scikit-learn.org.\n",
       "     See: https://github.com/scikit-learn/scikit-learn/issues/21755 */\n",
       "  display: inline-block !important;\n",
       "  position: relative;\n",
       "}\n",
       "\n",
       "#sk-container-id-2 div.sk-text-repr-fallback {\n",
       "  display: none;\n",
       "}\n",
       "\n",
       "div.sk-parallel-item,\n",
       "div.sk-serial,\n",
       "div.sk-item {\n",
       "  /* draw centered vertical line to link estimators */\n",
       "  background-image: linear-gradient(var(--sklearn-color-text-on-default-background), var(--sklearn-color-text-on-default-background));\n",
       "  background-size: 2px 100%;\n",
       "  background-repeat: no-repeat;\n",
       "  background-position: center center;\n",
       "}\n",
       "\n",
       "/* Parallel-specific style estimator block */\n",
       "\n",
       "#sk-container-id-2 div.sk-parallel-item::after {\n",
       "  content: \"\";\n",
       "  width: 100%;\n",
       "  border-bottom: 2px solid var(--sklearn-color-text-on-default-background);\n",
       "  flex-grow: 1;\n",
       "}\n",
       "\n",
       "#sk-container-id-2 div.sk-parallel {\n",
       "  display: flex;\n",
       "  align-items: stretch;\n",
       "  justify-content: center;\n",
       "  background-color: var(--sklearn-color-background);\n",
       "  position: relative;\n",
       "}\n",
       "\n",
       "#sk-container-id-2 div.sk-parallel-item {\n",
       "  display: flex;\n",
       "  flex-direction: column;\n",
       "}\n",
       "\n",
       "#sk-container-id-2 div.sk-parallel-item:first-child::after {\n",
       "  align-self: flex-end;\n",
       "  width: 50%;\n",
       "}\n",
       "\n",
       "#sk-container-id-2 div.sk-parallel-item:last-child::after {\n",
       "  align-self: flex-start;\n",
       "  width: 50%;\n",
       "}\n",
       "\n",
       "#sk-container-id-2 div.sk-parallel-item:only-child::after {\n",
       "  width: 0;\n",
       "}\n",
       "\n",
       "/* Serial-specific style estimator block */\n",
       "\n",
       "#sk-container-id-2 div.sk-serial {\n",
       "  display: flex;\n",
       "  flex-direction: column;\n",
       "  align-items: center;\n",
       "  background-color: var(--sklearn-color-background);\n",
       "  padding-right: 1em;\n",
       "  padding-left: 1em;\n",
       "}\n",
       "\n",
       "\n",
       "/* Toggleable style: style used for estimator/Pipeline/ColumnTransformer box that is\n",
       "clickable and can be expanded/collapsed.\n",
       "- Pipeline and ColumnTransformer use this feature and define the default style\n",
       "- Estimators will overwrite some part of the style using the `sk-estimator` class\n",
       "*/\n",
       "\n",
       "/* Pipeline and ColumnTransformer style (default) */\n",
       "\n",
       "#sk-container-id-2 div.sk-toggleable {\n",
       "  /* Default theme specific background. It is overwritten whether we have a\n",
       "  specific estimator or a Pipeline/ColumnTransformer */\n",
       "  background-color: var(--sklearn-color-background);\n",
       "}\n",
       "\n",
       "/* Toggleable label */\n",
       "#sk-container-id-2 label.sk-toggleable__label {\n",
       "  cursor: pointer;\n",
       "  display: block;\n",
       "  width: 100%;\n",
       "  margin-bottom: 0;\n",
       "  padding: 0.5em;\n",
       "  box-sizing: border-box;\n",
       "  text-align: center;\n",
       "}\n",
       "\n",
       "#sk-container-id-2 label.sk-toggleable__label-arrow:before {\n",
       "  /* Arrow on the left of the label */\n",
       "  content: \"▸\";\n",
       "  float: left;\n",
       "  margin-right: 0.25em;\n",
       "  color: var(--sklearn-color-icon);\n",
       "}\n",
       "\n",
       "#sk-container-id-2 label.sk-toggleable__label-arrow:hover:before {\n",
       "  color: var(--sklearn-color-text);\n",
       "}\n",
       "\n",
       "/* Toggleable content - dropdown */\n",
       "\n",
       "#sk-container-id-2 div.sk-toggleable__content {\n",
       "  max-height: 0;\n",
       "  max-width: 0;\n",
       "  overflow: hidden;\n",
       "  text-align: left;\n",
       "  /* unfitted */\n",
       "  background-color: var(--sklearn-color-unfitted-level-0);\n",
       "}\n",
       "\n",
       "#sk-container-id-2 div.sk-toggleable__content.fitted {\n",
       "  /* fitted */\n",
       "  background-color: var(--sklearn-color-fitted-level-0);\n",
       "}\n",
       "\n",
       "#sk-container-id-2 div.sk-toggleable__content pre {\n",
       "  margin: 0.2em;\n",
       "  border-radius: 0.25em;\n",
       "  color: var(--sklearn-color-text);\n",
       "  /* unfitted */\n",
       "  background-color: var(--sklearn-color-unfitted-level-0);\n",
       "}\n",
       "\n",
       "#sk-container-id-2 div.sk-toggleable__content.fitted pre {\n",
       "  /* unfitted */\n",
       "  background-color: var(--sklearn-color-fitted-level-0);\n",
       "}\n",
       "\n",
       "#sk-container-id-2 input.sk-toggleable__control:checked~div.sk-toggleable__content {\n",
       "  /* Expand drop-down */\n",
       "  max-height: 200px;\n",
       "  max-width: 100%;\n",
       "  overflow: auto;\n",
       "}\n",
       "\n",
       "#sk-container-id-2 input.sk-toggleable__control:checked~label.sk-toggleable__label-arrow:before {\n",
       "  content: \"▾\";\n",
       "}\n",
       "\n",
       "/* Pipeline/ColumnTransformer-specific style */\n",
       "\n",
       "#sk-container-id-2 div.sk-label input.sk-toggleable__control:checked~label.sk-toggleable__label {\n",
       "  color: var(--sklearn-color-text);\n",
       "  background-color: var(--sklearn-color-unfitted-level-2);\n",
       "}\n",
       "\n",
       "#sk-container-id-2 div.sk-label.fitted input.sk-toggleable__control:checked~label.sk-toggleable__label {\n",
       "  background-color: var(--sklearn-color-fitted-level-2);\n",
       "}\n",
       "\n",
       "/* Estimator-specific style */\n",
       "\n",
       "/* Colorize estimator box */\n",
       "#sk-container-id-2 div.sk-estimator input.sk-toggleable__control:checked~label.sk-toggleable__label {\n",
       "  /* unfitted */\n",
       "  background-color: var(--sklearn-color-unfitted-level-2);\n",
       "}\n",
       "\n",
       "#sk-container-id-2 div.sk-estimator.fitted input.sk-toggleable__control:checked~label.sk-toggleable__label {\n",
       "  /* fitted */\n",
       "  background-color: var(--sklearn-color-fitted-level-2);\n",
       "}\n",
       "\n",
       "#sk-container-id-2 div.sk-label label.sk-toggleable__label,\n",
       "#sk-container-id-2 div.sk-label label {\n",
       "  /* The background is the default theme color */\n",
       "  color: var(--sklearn-color-text-on-default-background);\n",
       "}\n",
       "\n",
       "/* On hover, darken the color of the background */\n",
       "#sk-container-id-2 div.sk-label:hover label.sk-toggleable__label {\n",
       "  color: var(--sklearn-color-text);\n",
       "  background-color: var(--sklearn-color-unfitted-level-2);\n",
       "}\n",
       "\n",
       "/* Label box, darken color on hover, fitted */\n",
       "#sk-container-id-2 div.sk-label.fitted:hover label.sk-toggleable__label.fitted {\n",
       "  color: var(--sklearn-color-text);\n",
       "  background-color: var(--sklearn-color-fitted-level-2);\n",
       "}\n",
       "\n",
       "/* Estimator label */\n",
       "\n",
       "#sk-container-id-2 div.sk-label label {\n",
       "  font-family: monospace;\n",
       "  font-weight: bold;\n",
       "  display: inline-block;\n",
       "  line-height: 1.2em;\n",
       "}\n",
       "\n",
       "#sk-container-id-2 div.sk-label-container {\n",
       "  text-align: center;\n",
       "}\n",
       "\n",
       "/* Estimator-specific */\n",
       "#sk-container-id-2 div.sk-estimator {\n",
       "  font-family: monospace;\n",
       "  border: 1px dotted var(--sklearn-color-border-box);\n",
       "  border-radius: 0.25em;\n",
       "  box-sizing: border-box;\n",
       "  margin-bottom: 0.5em;\n",
       "  /* unfitted */\n",
       "  background-color: var(--sklearn-color-unfitted-level-0);\n",
       "}\n",
       "\n",
       "#sk-container-id-2 div.sk-estimator.fitted {\n",
       "  /* fitted */\n",
       "  background-color: var(--sklearn-color-fitted-level-0);\n",
       "}\n",
       "\n",
       "/* on hover */\n",
       "#sk-container-id-2 div.sk-estimator:hover {\n",
       "  /* unfitted */\n",
       "  background-color: var(--sklearn-color-unfitted-level-2);\n",
       "}\n",
       "\n",
       "#sk-container-id-2 div.sk-estimator.fitted:hover {\n",
       "  /* fitted */\n",
       "  background-color: var(--sklearn-color-fitted-level-2);\n",
       "}\n",
       "\n",
       "/* Specification for estimator info (e.g. \"i\" and \"?\") */\n",
       "\n",
       "/* Common style for \"i\" and \"?\" */\n",
       "\n",
       ".sk-estimator-doc-link,\n",
       "a:link.sk-estimator-doc-link,\n",
       "a:visited.sk-estimator-doc-link {\n",
       "  float: right;\n",
       "  font-size: smaller;\n",
       "  line-height: 1em;\n",
       "  font-family: monospace;\n",
       "  background-color: var(--sklearn-color-background);\n",
       "  border-radius: 1em;\n",
       "  height: 1em;\n",
       "  width: 1em;\n",
       "  text-decoration: none !important;\n",
       "  margin-left: 1ex;\n",
       "  /* unfitted */\n",
       "  border: var(--sklearn-color-unfitted-level-1) 1pt solid;\n",
       "  color: var(--sklearn-color-unfitted-level-1);\n",
       "}\n",
       "\n",
       ".sk-estimator-doc-link.fitted,\n",
       "a:link.sk-estimator-doc-link.fitted,\n",
       "a:visited.sk-estimator-doc-link.fitted {\n",
       "  /* fitted */\n",
       "  border: var(--sklearn-color-fitted-level-1) 1pt solid;\n",
       "  color: var(--sklearn-color-fitted-level-1);\n",
       "}\n",
       "\n",
       "/* On hover */\n",
       "div.sk-estimator:hover .sk-estimator-doc-link:hover,\n",
       ".sk-estimator-doc-link:hover,\n",
       "div.sk-label-container:hover .sk-estimator-doc-link:hover,\n",
       ".sk-estimator-doc-link:hover {\n",
       "  /* unfitted */\n",
       "  background-color: var(--sklearn-color-unfitted-level-3);\n",
       "  color: var(--sklearn-color-background);\n",
       "  text-decoration: none;\n",
       "}\n",
       "\n",
       "div.sk-estimator.fitted:hover .sk-estimator-doc-link.fitted:hover,\n",
       ".sk-estimator-doc-link.fitted:hover,\n",
       "div.sk-label-container:hover .sk-estimator-doc-link.fitted:hover,\n",
       ".sk-estimator-doc-link.fitted:hover {\n",
       "  /* fitted */\n",
       "  background-color: var(--sklearn-color-fitted-level-3);\n",
       "  color: var(--sklearn-color-background);\n",
       "  text-decoration: none;\n",
       "}\n",
       "\n",
       "/* Span, style for the box shown on hovering the info icon */\n",
       ".sk-estimator-doc-link span {\n",
       "  display: none;\n",
       "  z-index: 9999;\n",
       "  position: relative;\n",
       "  font-weight: normal;\n",
       "  right: .2ex;\n",
       "  padding: .5ex;\n",
       "  margin: .5ex;\n",
       "  width: min-content;\n",
       "  min-width: 20ex;\n",
       "  max-width: 50ex;\n",
       "  color: var(--sklearn-color-text);\n",
       "  box-shadow: 2pt 2pt 4pt #999;\n",
       "  /* unfitted */\n",
       "  background: var(--sklearn-color-unfitted-level-0);\n",
       "  border: .5pt solid var(--sklearn-color-unfitted-level-3);\n",
       "}\n",
       "\n",
       ".sk-estimator-doc-link.fitted span {\n",
       "  /* fitted */\n",
       "  background: var(--sklearn-color-fitted-level-0);\n",
       "  border: var(--sklearn-color-fitted-level-3);\n",
       "}\n",
       "\n",
       ".sk-estimator-doc-link:hover span {\n",
       "  display: block;\n",
       "}\n",
       "\n",
       "/* \"?\"-specific style due to the `<a>` HTML tag */\n",
       "\n",
       "#sk-container-id-2 a.estimator_doc_link {\n",
       "  float: right;\n",
       "  font-size: 1rem;\n",
       "  line-height: 1em;\n",
       "  font-family: monospace;\n",
       "  background-color: var(--sklearn-color-background);\n",
       "  border-radius: 1rem;\n",
       "  height: 1rem;\n",
       "  width: 1rem;\n",
       "  text-decoration: none;\n",
       "  /* unfitted */\n",
       "  color: var(--sklearn-color-unfitted-level-1);\n",
       "  border: var(--sklearn-color-unfitted-level-1) 1pt solid;\n",
       "}\n",
       "\n",
       "#sk-container-id-2 a.estimator_doc_link.fitted {\n",
       "  /* fitted */\n",
       "  border: var(--sklearn-color-fitted-level-1) 1pt solid;\n",
       "  color: var(--sklearn-color-fitted-level-1);\n",
       "}\n",
       "\n",
       "/* On hover */\n",
       "#sk-container-id-2 a.estimator_doc_link:hover {\n",
       "  /* unfitted */\n",
       "  background-color: var(--sklearn-color-unfitted-level-3);\n",
       "  color: var(--sklearn-color-background);\n",
       "  text-decoration: none;\n",
       "}\n",
       "\n",
       "#sk-container-id-2 a.estimator_doc_link.fitted:hover {\n",
       "  /* fitted */\n",
       "  background-color: var(--sklearn-color-fitted-level-3);\n",
       "}\n",
       "</style><div id=\"sk-container-id-2\" class=\"sk-top-container\"><div class=\"sk-text-repr-fallback\"><pre>RandomForestRegressor(n_estimators=200, random_state=42)</pre><b>In a Jupyter environment, please rerun this cell to show the HTML representation or trust the notebook. <br />On GitHub, the HTML representation is unable to render, please try loading this page with nbviewer.org.</b></div><div class=\"sk-container\" hidden><div class=\"sk-item\"><div class=\"sk-estimator fitted sk-toggleable\"><input class=\"sk-toggleable__control sk-hidden--visually\" id=\"sk-estimator-id-2\" type=\"checkbox\" checked><label for=\"sk-estimator-id-2\" class=\"sk-toggleable__label fitted sk-toggleable__label-arrow fitted\">&nbsp;&nbsp;RandomForestRegressor<a class=\"sk-estimator-doc-link fitted\" rel=\"noreferrer\" target=\"_blank\" href=\"https://scikit-learn.org/1.5/modules/generated/sklearn.ensemble.RandomForestRegressor.html\">?<span>Documentation for RandomForestRegressor</span></a><span class=\"sk-estimator-doc-link fitted\">i<span>Fitted</span></span></label><div class=\"sk-toggleable__content fitted\"><pre>RandomForestRegressor(n_estimators=200, random_state=42)</pre></div> </div></div></div></div>"
      ],
      "text/plain": [
       "RandomForestRegressor(n_estimators=200, random_state=42)"
      ]
     },
     "execution_count": 56,
     "metadata": {},
     "output_type": "execute_result"
    }
   ],
   "source": [
    "from sklearn.ensemble import RandomForestRegressor\n",
    "\n",
    "# Model for 10 days ahead\n",
    "rf_10d = RandomForestRegressor(n_estimators=200, random_state=42)\n",
    "rf_10d.fit(X_train, y10_train)\n",
    "\n",
    "# Model for 20 days ahead\n",
    "rf_20d = RandomForestRegressor(n_estimators=200, random_state=42)\n",
    "rf_20d.fit(X_train, y20_train)"
   ]
  },
  {
   "cell_type": "markdown",
   "id": "1a6aad92-49ac-450d-9205-4c93efa60687",
   "metadata": {},
   "source": [
    "#### Step 5: Evaluate Model Performance"
   ]
  },
  {
   "cell_type": "code",
   "execution_count": 57,
   "id": "a195aa99-b38f-42a3-aa52-682e3986646f",
   "metadata": {},
   "outputs": [
    {
     "name": "stdout",
     "output_type": "stream",
     "text": [
      "10-Day Ahead Model:\n",
      "RMSE: 31826.34, MAE: 26828.21\n",
      "\n",
      "20-Day Ahead Model:\n",
      "RMSE: 35099.94, MAE: 30870.77\n"
     ]
    }
   ],
   "source": [
    "from sklearn.metrics import mean_squared_error, mean_absolute_error\n",
    "import numpy as np\n",
    "\n",
    "# Predictions\n",
    "y10_pred = rf_10d.predict(X_test)\n",
    "y20_pred = rf_20d.predict(X_test)\n",
    "\n",
    "# Performance metrics\n",
    "rmse_10d = np.sqrt(mean_squared_error(y10_test, y10_pred))\n",
    "mae_10d = mean_absolute_error(y10_test, y10_pred)\n",
    "\n",
    "rmse_20d = np.sqrt(mean_squared_error(y20_test, y20_pred))\n",
    "mae_20d = mean_absolute_error(y20_test, y20_pred)\n",
    "\n",
    "print(\"10-Day Ahead Model:\")\n",
    "print(f\"RMSE: {rmse_10d:.2f}, MAE: {mae_10d:.2f}\")\n",
    "\n",
    "print(\"\\n20-Day Ahead Model:\")\n",
    "print(f\"RMSE: {rmse_20d:.2f}, MAE: {mae_20d:.2f}\")"
   ]
  },
  {
   "cell_type": "markdown",
   "id": "a40fc94f-d94e-4864-a788-c4c5dc6f85ba",
   "metadata": {},
   "source": [
    "- Root Mean Squared Error (RMSE): Represents the average magnitude of errors. Higher errors have disproportinately greater impact due to squaring\n",
    "- Mean Absolute Error (MAE): Represents the average magnitude of prediction errors (in absolute terms). Easier to interpret directly.\n",
    "\n",
    "From the result:\n",
    "- 10-day ahead: MAE says we are off by ~$25,745.60, on average\n",
    "\n",
    "\n",
    "- 20-day ahead: MAE says we are off by ~$29,800.12, on average"
   ]
  },
  {
   "cell_type": "markdown",
   "id": "2b38a741-397e-4b1f-82c0-673d52e18365",
   "metadata": {},
   "source": [
    "#### Step 6: Feature Importance"
   ]
  },
  {
   "cell_type": "code",
   "execution_count": 58,
   "id": "e3f148dc-038c-4f47-849c-79087a7eb890",
   "metadata": {},
   "outputs": [
    {
     "data": {
      "image/png": "[encoded data removed]",
      "text/plain": [
       "<Figure size 640x480 with 1 Axes>"
      ]
     },
     "metadata": {},
     "output_type": "display_data"
    },
    {
     "data": {
      "image/png": "[encoded data removed]",
      "text/plain": [
       "<Figure size 640x480 with 1 Axes>"
      ]
     },
     "metadata": {},
     "output_type": "display_data"
    }
   ],
   "source": [
    "import pandas as pd\n",
    "import matplotlib.pyplot as plt\n",
    "\n",
    "# Feature importance (10-day ahead)\n",
    "importance_10d = pd.Series(rf_10d.feature_importances_, index=features).sort_values(ascending=False)\n",
    "importance_10d.plot(kind='bar', title='Feature Importance (10-Day Ahead)')\n",
    "plt.show()\n",
    "\n",
    "# Feature importance (20-day ahead)\n",
    "importance_20d = pd.Series(rf_20d.feature_importances_, index=features).sort_values(ascending=False)\n",
    "importance_20d.plot(kind='bar', title='Feature Importance (20-Day Ahead)')\n",
    "plt.show()\n"
   ]
  },
  {
   "cell_type": "markdown",
   "id": "57f1c78f-49a4-46e2-849a-e284cce0ca6f",
   "metadata": {},
   "source": [
    "#### Step 7: Make Actual Future Predictions"
   ]
  },
  {
   "cell_type": "code",
   "execution_count": 59,
   "id": "a6fe0f27-1fe5-4665-9fac-a2dc7abb57f9",
   "metadata": {},
   "outputs": [
    {
     "name": "stdout",
     "output_type": "stream",
     "text": [
      "Predicted BTC price 10 days from now: $52952.17\n",
      "Predicted BTC price 20 days from now: $52635.21\n"
     ]
    }
   ],
   "source": [
    "latest_data = model[features].iloc[-1:]\n",
    "\n",
    "# Predict future prices\n",
    "price_in_10_days = rf_10d.predict(latest_data)[0]\n",
    "price_in_20_days = rf_20d.predict(latest_data)[0]\n",
    "\n",
    "print(f\"Predicted BTC price 10 days from now: ${price_in_10_days:.2f}\")\n",
    "print(f\"Predicted BTC price 20 days from now: ${price_in_20_days:.2f}\")"
   ]
  },
  {
   "cell_type": "markdown",
   "id": "2670821b-c618-4745-92fe-71fb8c025366",
   "metadata": {},
   "source": [
    "Notes: this is quite off as BTC is currently trending above 110k at current state.\n"
   ]
  },
  {
   "cell_type": "markdown",
   "id": "489a8122-0f76-4ccd-9dc3-81e1f691831e",
   "metadata": {},
   "source": [
    "# Conclusion\n",
    "While this research paper seems promising, my approach to only use their top important features was not sufficient to predict the price of BTC 10- and 20- days ahead.   \n",
    "Future improvement will need to involve other features that they had included.  \n",
    "Normalization of the prices could be a point of interest as well as BTC can be quite volatile. "
   ]
  }
 ],
 "metadata": {
  "kernelspec": {
   "display_name": "Python [conda env:base] *",
   "language": "python",
   "name": "conda-base-py"
  },
  "language_info": {
   "codemirror_mode": {
    "name": "ipython",
    "version": 3
   },
   "file_extension": ".py",
   "mimetype": "text/x-python",
   "name": "python",
   "nbconvert_exporter": "python",
   "pygments_lexer": "ipython3",
   "version": "3.12.3"
  }
 },
 "nbformat": 4,
 "nbformat_minor": 5
}
